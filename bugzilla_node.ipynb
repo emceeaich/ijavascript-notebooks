{
 "cells": [
  {
   "cell_type": "markdown",
   "metadata": {},
   "source": [
    "To use this notebook, install the `bz` package: `npm install -g bz`."
   ]
  },
  {
   "cell_type": "code",
   "execution_count": 3,
   "metadata": {
    "collapsed": false
   },
   "outputs": [
    {
     "data": {
      "text/plain": [
       "undefined"
      ]
     },
     "execution_count": 3,
     "metadata": {},
     "output_type": "execute_result"
    }
   ],
   "source": [
    "var data, query, bz = require(\"bz\");\n",
    "var bugzilla = bz.createClient();"
   ]
  },
  {
   "cell_type": "markdown",
   "metadata": {},
   "source": [
    "`alice0775@yahoo.co.jp` is a prolific contributor of high quality bugs to The Project. Let's see how many new, untriaged bugs they have reported.\n",
    "\n",
    "The `bz` package expects an object with query parameters.\n",
    "\n",
    "See the [bugzilla.mozilla.org documentation for the fields supported](https://wiki.mozilla.org/Bugzilla:BzAPI:Search)."
   ]
  },
  {
   "cell_type": "code",
   "execution_count": 8,
   "metadata": {
    "collapsed": false
   },
   "outputs": [
    {
     "data": {
      "text/plain": [
       "{ include_fields: 'id,summary,status,last_change_time',\n",
       "  email1: 'alice0775@yahoo.co.jp',\n",
       "  resolution: '---',\n",
       "  emailassigned_to1: '1',\n",
       "  emailreporter1: '1',\n",
       "  emailtype1: 'exact',\n",
       "  status: 'NEW' }"
      ]
     },
     "execution_count": 8,
     "metadata": {},
     "output_type": "execute_result"
    }
   ],
   "source": [
    "query = { include_fields: 'id,summary,status,last_change_time',\n",
    "  email1: 'alice0775@yahoo.co.jp',\n",
    "  resolution: '---',\n",
    "  emailassigned_to1: '1',\n",
    "  emailreporter1: '1',\n",
    "  emailtype1: 'exact',\n",
    "  status: 'NEW'};"
   ]
  },
  {
   "cell_type": "markdown",
   "metadata": {},
   "source": [
    "Use the `searchBugs` method and give it a callback function."
   ]
  },
  {
   "cell_type": "code",
   "execution_count": 9,
   "metadata": {
    "collapsed": false,
    "scrolled": true
   },
   "outputs": [
    {
     "data": {
      "text/plain": [
       "undefined"
      ]
     },
     "execution_count": 9,
     "metadata": {},
     "output_type": "execute_result"
    },
    {
     "name": "stdout",
     "output_type": "stream",
     "text": [
      "I found 387 bugs\n"
     ]
    }
   ],
   "source": [
    "bugzilla.searchBugs(query, function(error, bugs) {\n",
    "    if (error) {\n",
    "        console.error(error);\n",
    "    }\n",
    "    console.log(\"I found\", bugs.length, \"bugs\");\n",
    "    data = bugs;\n",
    "});"
   ]
  },
  {
   "cell_type": "code",
   "execution_count": 10,
   "metadata": {
    "collapsed": false
   },
   "outputs": [
    {
     "data": {
      "text/plain": [
       "{ summary: 'It flickers when I move a mouse on an disabled context menuitem of pull down Bookmarks menu with Windows Classic Theme',\n",
       "  status: 'NEW',\n",
       "  id: 492960,\n",
       "  last_change_time: '2014-11-29T10:37:12Z' }"
      ]
     },
     "execution_count": 10,
     "metadata": {},
     "output_type": "execute_result"
    }
   ],
   "source": [
    "data[0]"
   ]
  }
 ],
 "metadata": {
  "kernelspec": {
   "display_name": "Javascript (Node.js)",
   "language": "javascript",
   "name": "javascript"
  },
  "language_info": {
   "file_extension": "js",
   "mimetype": "application/javascript",
   "name": "javascript",
   "version": "4.2.1"
  }
 },
 "nbformat": 4,
 "nbformat_minor": 0
}
